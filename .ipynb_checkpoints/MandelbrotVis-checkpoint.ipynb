{
 "cells": [
  {
   "cell_type": "code",
   "execution_count": 9,
   "id": "8051d053-697e-4194-bc7c-b9d3db415fe9",
   "metadata": {},
   "outputs": [
    {
     "data": {
      "application/vnd.jupyter.widget-view+json": {
       "model_id": "7ed74472ee944adbbb1c9205fe269f7f",
       "version_major": 2,
       "version_minor": 0
      },
      "text/plain": [
       "interactive(children=(FloatSlider(value=0.0, description='z0_real', max=1.0, min=-1.0, step=0.01), FloatSlider…"
      ]
     },
     "metadata": {},
     "output_type": "display_data"
    }
   ],
   "source": [
    "import numpy as np\n",
    "import matplotlib.pyplot as plt\n",
    "from ipywidgets import interact, FloatSlider\n",
    "\n",
    "def generate_fractal(z0_real=0.0, z0_imag=0.0, \n",
    "                     x_min=-2.0, x_max=1.0, y_min=-1.5, y_max=1.5, \n",
    "                     width=300, height=200, max_iter=100):\n",
    "    mandelbrot_image = np.zeros((height, width))\n",
    "    x_values = np.linspace(x_min, x_max, width)\n",
    "    y_values = np.linspace(y_min, y_max, height)\n",
    "\n",
    "    z0 = complex(z0_real, z0_imag)\n",
    "\n",
    "    for i, y in enumerate(y_values):\n",
    "        for j, x in enumerate(x_values):\n",
    "            c = complex(x, y)\n",
    "            z = z0\n",
    "            iteration = 0\n",
    "            for iteration in range(max_iter):\n",
    "                z = z*z + c\n",
    "                if abs(z) > 2:\n",
    "                    break\n",
    "            mandelbrot_image[i, j] = iteration\n",
    "\n",
    "    return mandelbrot_image\n",
    "\n",
    "def plot_fractal(z0_real=0.0, z0_imag=0.0):\n",
    "    img = generate_fractal(z0_real=z0_real, z0_imag=z0_imag, \n",
    "                           x_min=-2.0, x_max=1.0, y_min=-1.5, y_max=1.5,\n",
    "                           width=300, height=200, max_iter=100)\n",
    "    plt.figure(figsize=(6,4))\n",
    "    plt.imshow(img, extent=(-2,1,-1.5,1.5), origin='lower', cmap='magma')\n",
    "    plt.title(f\"Fractal with z0 = {z0_real} + {z0_imag}i\")\n",
    "    plt.xlabel('Real axis')\n",
    "    plt.ylabel('Imaginary axis')\n",
    "    plt.colorbar(label='Iteration count')\n",
    "    plt.show()\n",
    "\n",
    "interact(plot_fractal, \n",
    "         z0_real=FloatSlider(value=0.0, min=-1.0, max=1.0, step=0.01, description='z0_real'),\n",
    "         z0_imag=FloatSlider(value=0.0, min=-1.0, max=1.0, step=0.01, description='z0_imag'));\n"
   ]
  }
 ],
 "metadata": {
  "kernelspec": {
   "display_name": "Python 3 (ipykernel)",
   "language": "python",
   "name": "python3"
  },
  "language_info": {
   "codemirror_mode": {
    "name": "ipython",
    "version": 3
   },
   "file_extension": ".py",
   "mimetype": "text/x-python",
   "name": "python",
   "nbconvert_exporter": "python",
   "pygments_lexer": "ipython3",
   "version": "3.12.5"
  }
 },
 "nbformat": 4,
 "nbformat_minor": 5
}
